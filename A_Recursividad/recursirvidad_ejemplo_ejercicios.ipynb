{
  "nbformat": 4,
  "nbformat_minor": 0,
  "metadata": {
    "colab": {
      "provenance": [],
      "authorship_tag": "ABX9TyPLY+Eg1LPwSnrlYuWlRmNK",
      "include_colab_link": true
    },
    "kernelspec": {
      "name": "python3",
      "display_name": "Python 3"
    },
    "language_info": {
      "name": "python"
    }
  },
  "cells": [
    {
      "cell_type": "markdown",
      "metadata": {
        "id": "view-in-github",
        "colab_type": "text"
      },
      "source": [
        "<a href=\"https://colab.research.google.com/github/fowardelcac/algoritmos-y-estructrura-de-datos/blob/main/A_Recursividad/recursirvidad_ejemplo_ejercicios.ipynb\" target=\"_parent\"><img src=\"https://colab.research.google.com/assets/colab-badge.svg\" alt=\"Open In Colab\"/></a>"
      ]
    },
    {
      "cell_type": "markdown",
      "source": [
        "# Factorial"
      ],
      "metadata": {
        "id": "j9AIYaOggzGI"
      }
    },
    {
      "cell_type": "code",
      "source": [
        "def factorial(n):\n",
        "  if n == 0:\n",
        "    return 1\n",
        "  else:\n",
        "    return n * factorial(n - 1)\n",
        "print(factorial(5))"
      ],
      "metadata": {
        "colab": {
          "base_uri": "https://localhost:8080/"
        },
        "id": "bru7_3b8gw8D",
        "outputId": "b505e6f6-e74e-4b43-8403-b3dd9dafe673"
      },
      "execution_count": 8,
      "outputs": [
        {
          "output_type": "stream",
          "name": "stdout",
          "text": [
            "120\n"
          ]
        }
      ]
    },
    {
      "cell_type": "markdown",
      "source": [
        "# Fibonacci"
      ],
      "metadata": {
        "id": "k-Doqr6ihGsl"
      }
    },
    {
      "cell_type": "code",
      "source": [
        "def fibonacci(n):\n",
        "  if n < 2:\n",
        "    return n\n",
        "  else:\n",
        "    return fibonacci(n -  1) + fibonacci(n - 2)\n",
        "fibonacci(8)"
      ],
      "metadata": {
        "colab": {
          "base_uri": "https://localhost:8080/"
        },
        "id": "Opnxi65NhJN3",
        "outputId": "be9e7568-601a-46cd-e568-10cf35786299"
      },
      "execution_count": 11,
      "outputs": [
        {
          "output_type": "execute_result",
          "data": {
            "text/plain": [
              "21"
            ]
          },
          "metadata": {},
          "execution_count": 11
        }
      ]
    },
    {
      "cell_type": "markdown",
      "source": [
        "# Suma de naturales\n",
        "Suma de todos los numeros enteros comprendidos entre cero y un numero positio dado"
      ],
      "metadata": {
        "id": "RE3dmW08hvK_"
      }
    },
    {
      "cell_type": "code",
      "source": [
        "def suma(n):\n",
        "  if n == 0:\n",
        "    return 0\n",
        "  else:\n",
        "    return n + suma(n - 1)"
      ],
      "metadata": {
        "id": "6AAl04yZbYuT"
      },
      "execution_count": 14,
      "outputs": []
    },
    {
      "cell_type": "code",
      "source": [
        "suma(5)"
      ],
      "metadata": {
        "colab": {
          "base_uri": "https://localhost:8080/"
        },
        "id": "zDcBw0NhfJ1V",
        "outputId": "2504faf0-e043-4e92-a473-3a0a554effcc"
      },
      "execution_count": 15,
      "outputs": [
        {
          "output_type": "execute_result",
          "data": {
            "text/plain": [
              "15"
            ]
          },
          "metadata": {},
          "execution_count": 15
        }
      ]
    },
    {
      "cell_type": "code",
      "source": [],
      "metadata": {
        "id": "9EMezbNpfM4a"
      },
      "execution_count": null,
      "outputs": []
    }
  ]
}